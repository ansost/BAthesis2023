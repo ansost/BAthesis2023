{
 "cells": [
  {
   "cell_type": "code",
   "execution_count": 1,
   "id": "e4af33f6",
   "metadata": {},
   "outputs": [],
   "source": [
    "import buckeye\n",
    "import pandas as pd"
   ]
  },
  {
   "cell_type": "code",
   "execution_count": 15,
   "id": "60baacb1",
   "metadata": {},
   "outputs": [],
   "source": [
    "corpus = buckeye.corpus('/mnt/c/Users/astei/ownCloud - Anna Stein@cloud.phil.hhu.de/buckeye_data/zipped_corpus')\n",
    "forbidden_words = ['uh', 'ah', 'um', 'mm', 'hm', 'huh', 'uh-huh', 'um-hum', 'huh-uh', \n",
    "                   'hum-hum', 'hmm', 'hmmm', 'mh', 'mmh', 'oh']\n",
    "\n",
    "# There are 40 speaker in total. \n",
    "for speaker in corpus: \n",
    "    df = pd.DataFrame({'speaker': [], 'token': [], 'token_duration': []})\n",
    "    words = []\n",
    "    # Each speaker has up to 6 tracks.\n",
    "    for track in speaker: \n",
    "        for word in track.words: \n",
    "            # Catches both pauses and pauses that revieced the word class\n",
    "            if isinstance(word, buckeye.containers.Word) and word.orthography not in forbidden_words:\n",
    "                df.loc[len(df)] = {'speaker': speaker.name, 'token': word.orthography, 'token_duration': word.dur}\n",
    "                   \n",
    "    df.to_csv('../data/allwords_perspeaker_csv/' + str(speaker.name) + '.csv')\n",
    "    break"
   ]
  }
 ],
 "metadata": {
  "kernelspec": {
   "display_name": "Python 3 (ipykernel)",
   "language": "python",
   "name": "python3"
  },
  "language_info": {
   "codemirror_mode": {
    "name": "ipython",
    "version": 3
   },
   "file_extension": ".py",
   "mimetype": "text/x-python",
   "name": "python",
   "nbconvert_exporter": "python",
   "pygments_lexer": "ipython3",
   "version": "3.8.10"
  }
 },
 "nbformat": 4,
 "nbformat_minor": 5
}

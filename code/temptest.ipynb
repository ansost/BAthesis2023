{
 "cells": [
  {
   "cell_type": "markdown",
   "id": "c02bff9c",
   "metadata": {},
   "source": [
    "This is a temporary script to read in files/test code to see what they are and whether they belogn in this repository. Should be deleted before final commit. "
   ]
  },
  {
   "cell_type": "code",
   "execution_count": 2,
   "id": "841021f5",
   "metadata": {},
   "outputs": [],
   "source": [
    "import pandas as pd\n",
    "import xarray as xr"
   ]
  },
  {
   "cell_type": "code",
   "execution_count": 4,
   "id": "078daf7b",
   "metadata": {},
   "outputs": [],
   "source": [
    "df = pd.read_csv('../data/buckeye_event_file.tsv', sep = '\\t', low_memory = True, engine = 'c')\n",
    "df = pd.read_csv('../data/buckeye_event_file.tsv', sep = '\\t', low_memory = True, engine = 'c')"
   ]
  },
  {
   "cell_type": "code",
   "execution_count": 8,
   "id": "0adcf853",
   "metadata": {},
   "outputs": [],
   "source": [
    "import xarray  \n",
    "with xarray.open_dataarray('../data/weights_buckeye.nc') as weights_read:  \n",
    "    df = weights_read.to_pandas()\n",
    "df"
   ]
  },
  {
   "cell_type": "code",
   "execution_count": 11,
   "id": "21e5f183",
   "metadata": {},
   "outputs": [
    {
     "name": "stdout",
     "output_type": "stream",
     "text": [
      "<class 'pandas.core.frame.DataFrame'>\n",
      "Index: 13809 entries, c.okay to y.jhihts\n",
      "Columns: 9558 entries, okay to looser\n",
      "dtypes: float64(9558)\n",
      "memory usage: 1007.8 MB\n"
     ]
    }
   ],
   "source": [
    "#'../data/weights_buckeye.nc' # NOT IT\n",
    "# <class 'pandas.core.frame.DataFrame'>\n",
    "# Index: 1293 entries, c.when's to y.gihn\n",
    "# Columns: 610 entries, please to begin\n",
    "# dtypes: float64(610)\n",
    "# memory usage: 6.1 MB\n",
    "\n",
    "# '/mnt/c/Users/Anna/ownCloud/weights_buckeye.nc' # NOT IT\n",
    "# <class 'pandas.core.frame.DataFrame'>\n",
    "# Index: 1293 entries, c.when's to y.gihn\n",
    "# Columns: 610 entries, please to begin\n",
    "# dtypes: float64(610)\n",
    "# memory usage: 6.1 MB\n",
    "\n",
    "# '../data/buckeye_newandimproved_weights.nc' # NOT IT\n",
    "# <class 'pandas.core.frame.DataFrame'>\n",
    "# Index: 4091 entries, c.okay to c.content\n",
    "# Columns: 2327 entries, mm-hmm to philip\n",
    "# dtypes: float64(2327)\n",
    "# memory usage: 72.9 MB\n",
    "\n",
    "# '../data/other_weights_buckeye.nc' # NOT IT\n",
    "# <class 'pandas.core.frame.DataFrame'>\n",
    "# Index: 1293 entries, c.when's to y.gihn\n",
    "# Columns: 610 entries, please to begin\n",
    "# dtypes: float64(610)\n",
    "# memory usage: 6.1 MB\n",
    "\n",
    "df = xr.open_dataarray('/mnt/c/Users/Anna/ownCloud/weights_buckeye_promising.nc')\n",
    "weight_matrix = df.to_pandas()\n",
    "weight_matrix = weight_matrix.transpose()\n",
    "weight_matrix.info(verbose=False, memory_usage=\"deep\")"
   ]
  },
  {
   "cell_type": "markdown",
   "id": "bb1cca53",
   "metadata": {},
   "source": [
    "<class 'pandas.core.frame.DataFrame'>\n",
    "Index: 13809 entries, c.okay to y.jhihts\n",
    "Columns: 9558 entries, okay to looser\n",
    "dtypes: float64(9558)\n",
    "memory usage: 1007.8 MB"
   ]
  }
 ],
 "metadata": {
  "kernelspec": {
   "display_name": "Python 3 (ipykernel)",
   "language": "python",
   "name": "python3"
  },
  "language_info": {
   "codemirror_mode": {
    "name": "ipython",
    "version": 3
   },
   "file_extension": ".py",
   "mimetype": "text/x-python",
   "name": "python",
   "nbconvert_exporter": "python",
   "pygments_lexer": "ipython3",
   "version": "3.8.10"
  }
 },
 "nbformat": 4,
 "nbformat_minor": 5
}

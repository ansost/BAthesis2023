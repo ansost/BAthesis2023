{
 "cells": [
  {
   "cell_type": "markdown",
   "id": "c02bff9c",
   "metadata": {},
   "source": [
    "This is a temporary script to read in files/test code to see what they are and whether they belogn in this repository. Should be deleted before final commit. "
   ]
  },
  {
   "cell_type": "code",
   "execution_count": 9,
   "id": "841021f5",
   "metadata": {},
   "outputs": [],
   "source": [
    "import pandas as pd\n",
    "import xarray as xr\n",
    "import sys"
   ]
  },
  {
   "cell_type": "code",
   "execution_count": 10,
   "id": "0adcf853",
   "metadata": {
    "collapsed": true
   },
   "outputs": [
    {
     "ename": "NameError",
     "evalue": "name 'df' is not defined",
     "output_type": "error",
     "traceback": [
      "\u001b[0;31m---------------------------------------------------------------------------\u001b[0m",
      "\u001b[0;31mNameError\u001b[0m                                 Traceback (most recent call last)",
      "Cell \u001b[0;32mIn[10], line 3\u001b[0m\n\u001b[1;32m      1\u001b[0m \u001b[38;5;28;01mimport\u001b[39;00m \u001b[38;5;21;01mxarray\u001b[39;00m  \n\u001b[1;32m      2\u001b[0m \u001b[38;5;28;01mwith\u001b[39;00m xarray\u001b[38;5;241m.\u001b[39mopen_dataarray(\u001b[38;5;124m'\u001b[39m\u001b[38;5;124m/mnt/c/Users/astei/ownCloud - Anna Stein@cloud.phil.hhu.de/weights_buckeye_promising.nc\u001b[39m\u001b[38;5;124m'\u001b[39m) \u001b[38;5;28;01mas\u001b[39;00m weights_read:  \n\u001b[0;32m----> 3\u001b[0m     weight_matrix \u001b[38;5;241m=\u001b[39m \u001b[43mdf\u001b[49m\u001b[38;5;241m.\u001b[39mto_pandas()\n\u001b[1;32m      4\u001b[0m     weight_matrix \u001b[38;5;241m=\u001b[39m weight_matrix\u001b[38;5;241m.\u001b[39mtranspose()\n",
      "\u001b[0;31mNameError\u001b[0m: name 'df' is not defined"
     ]
    }
   ],
   "source": [
    "import xarray  \n",
    "with xarray.open_dataarray('/mnt/c/Users/astei/ownCloud - Anna Stein@cloud.phil.hhu.de/weights_buckeye_promising.nc') as weights_read:  \n",
    "    weight_matrix = df.to_pandas()\n",
    "    weight_matrix = weight_matrix.transpose()\n"
   ]
  },
  {
   "cell_type": "code",
   "execution_count": 11,
   "id": "21e5f183",
   "metadata": {},
   "outputs": [],
   "source": [
    "#'../data/weights_buckeye.nc' # NOT IT\n",
    "# <class 'pandas.core.frame.DataFrame'>\n",
    "# Index: 1293 entries, c.when's to y.gihn\n",
    "# Columns: 610 entries, please to begin\n",
    "# dtypes: float64(610)\n",
    "# memory usage: 6.1 MB\n",
    "\n",
    "# '/mnt/c/Users/Anna/ownCloud/weights_buckeye.nc' # NOT IT\n",
    "# <class 'pandas.core.frame.DataFrame'>\n",
    "# Index: 1293 entries, c.when's to y.gihn\n",
    "# Columns: 610 entries, please to begin\n",
    "# dtypes: float64(610)\n",
    "# memory usage: 6.1 MB\n",
    "\n",
    "# '../data/buckeye_newandimproved_weights.nc' # NOT IT\n",
    "# <class 'pandas.core.frame.DataFrame'>\n",
    "# Index: 4091 entries, c.okay to c.content\n",
    "# Columns: 2327 entries, mm-hmm to philip\n",
    "# dtypes: float64(2327)\n",
    "# memory usage: 72.9 MB\n",
    "\n",
    "# '../data/other_weights_buckeye.nc' # NOT IT\n",
    "# <class 'pandas.core.frame.DataFrame'>\n",
    "# Index: 1293 entries, c.when's to y.gihn\n",
    "# Columns: 610 entries, please to begin\n",
    "# dtypes: float64(610)\n",
    "# memory usage: 6.1 MB\n",
    "\n",
    "df = xr.open_dataarray('/mnt/c/Users/astei/ownCloud - Anna Stein@cloud.phil.hhu.de/weights_buckeye_promising.nc')\n",
    "df_ = df.to_pandas()\n",
    "df_.to_pickle('/home/anna/BAthesis2023/data/weights.pickle', compression='infer', protocol=5)"
   ]
  },
  {
   "cell_type": "code",
   "execution_count": 8,
   "id": "7ac6ad66",
   "metadata": {},
   "outputs": [
    {
     "data": {
      "text/plain": [
       "92"
      ]
     },
     "execution_count": 8,
     "metadata": {},
     "output_type": "execute_result"
    }
   ],
   "source": [
    "sys.getsizeof('/home/anna/BAthesis2023/data/weights.pickle')"
   ]
  },
  {
   "cell_type": "markdown",
   "id": "bb1cca53",
   "metadata": {},
   "source": [
    "<class 'pandas.core.frame.DataFrame'>\n",
    "Index: 13809 entries, c.okay to y.jhihts\n",
    "Columns: 9558 entries, okay to looser\n",
    "dtypes: float64(9558)\n",
    "memory usage: 1007.8 MB"
   ]
  }
 ],
 "metadata": {
  "kernelspec": {
   "display_name": "Python 3 (ipykernel)",
   "language": "python",
   "name": "python3"
  },
  "language_info": {
   "codemirror_mode": {
    "name": "ipython",
    "version": 3
   },
   "file_extension": ".py",
   "mimetype": "text/x-python",
   "name": "python",
   "nbconvert_exporter": "python",
   "pygments_lexer": "ipython3",
   "version": "3.8.10"
  }
 },
 "nbformat": 4,
 "nbformat_minor": 5
}
